{
 "cells": [
  {
   "cell_type": "code",
   "execution_count": 2,
   "id": "bb1ac8a7-89f7-4bcc-ad8b-914d16e062ac",
   "metadata": {},
   "outputs": [
    {
     "ename": "NameError",
     "evalue": "name 'dn_in2d' is not defined",
     "output_type": "error",
     "traceback": [
      "\u001b[31m---------------------------------------------------------------------------\u001b[39m",
      "\u001b[31mNameError\u001b[39m                                 Traceback (most recent call last)",
      "\u001b[36mCell\u001b[39m\u001b[36m \u001b[39m\u001b[32mIn[2]\u001b[39m\u001b[32m, line 9\u001b[39m\n\u001b[32m      7\u001b[39m \u001b[38;5;66;03m# Warm up\u001b[39;00m\n\u001b[32m      8\u001b[39m \u001b[38;5;28;01mfor\u001b[39;00m _ \u001b[38;5;129;01min\u001b[39;00m \u001b[38;5;28mrange\u001b[39m(\u001b[32m3\u001b[39m): \n\u001b[32m----> \u001b[39m\u001b[32m9\u001b[39m     _ = run_dem()\n\u001b[32m     11\u001b[39m \u001b[38;5;66;03m# Time it\u001b[39;00m\n\u001b[32m     12\u001b[39m get_ipython().run_line_magic(\u001b[33m'\u001b[39m\u001b[33mtimeit\u001b[39m\u001b[33m'\u001b[39m, \u001b[33m'\u001b[39m\u001b[33mrun_dem()\u001b[39m\u001b[33m'\u001b[39m)\n",
      "\u001b[36mCell\u001b[39m\u001b[36m \u001b[39m\u001b[32mIn[2]\u001b[39m\u001b[32m, line 5\u001b[39m, in \u001b[36mrun_dem\u001b[39m\u001b[34m()\u001b[39m\n\u001b[32m      4\u001b[39m \u001b[38;5;28;01mdef\u001b[39;00m\u001b[38;5;250m \u001b[39m\u001b[34mrun_dem\u001b[39m():\n\u001b[32m----> \u001b[39m\u001b[32m5\u001b[39m     \u001b[38;5;28;01mreturn\u001b[39;00m dn2dem_pos(dn_in2d,edn_in2d,trmatrix,tresp_logt,temps)\n",
      "\u001b[31mNameError\u001b[39m: name 'dn_in2d' is not defined"
     ]
    }
   ],
   "source": [
    "import cProfile\n",
    "from dn2dem_pos import dn2dem_pos\n",
    " \n",
    "def run_dem():\n",
    "    return dn2dem_pos(dn_in2d,edn_in2d,trmatrix,tresp_logt,temps)\n",
    " \n",
    "# Warm up\n",
    "for _ in range(3): \n",
    "    _ = run_dem()\n",
    " \n",
    "# Time it\n",
    "%timeit run_dem()\n",
    " \n",
    "# Run profiler\n",
    "cProfile.run('run_dem()', 'profile_output_syn.prof')\n",
    "# Now do the DEM maps calculation           \n",
    "dem2d,edem2d,elogt2d,chisq2d,dn_reg2d=run_dem()"
   ]
  },
  {
   "cell_type": "code",
   "execution_count": null,
   "id": "973c270b-a298-4ec4-9e5c-ee3b34c1182b",
   "metadata": {},
   "outputs": [],
   "source": []
  }
 ],
 "metadata": {
  "kernelspec": {
   "display_name": "Python [conda env:hpcp]",
   "language": "python",
   "name": "conda-env-hpcp-py"
  },
  "language_info": {
   "codemirror_mode": {
    "name": "ipython",
    "version": 3
   },
   "file_extension": ".py",
   "mimetype": "text/x-python",
   "name": "python",
   "nbconvert_exporter": "python",
   "pygments_lexer": "ipython3",
   "version": "3.12.9"
  }
 },
 "nbformat": 4,
 "nbformat_minor": 5
}
